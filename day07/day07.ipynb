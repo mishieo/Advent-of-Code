{
 "cells": [
  {
   "cell_type": "code",
   "execution_count": 20,
   "id": "5114fda2",
   "metadata": {},
   "outputs": [],
   "source": [
    "with open('day07.txt') as f:\n",
    "    text = f.readlines()\n",
    "text = [i.strip().split(\" \") for i in text]\n",
    "text = [[i[0], int(i[1])] for i in text]"
   ]
  },
  {
   "cell_type": "code",
   "execution_count": 17,
   "id": "2aa4da87",
   "metadata": {},
   "outputs": [],
   "source": [
    "order = 'A, K, Q, J, T, 9, 8, 7, 6, 5, 4, 3, 2'.split(\", \")\n",
    "order = dict(zip(list(reversed(order)),list([i+1 for i in range(len(order))])))"
   ]
  },
  {
   "cell_type": "code",
   "execution_count": 31,
   "id": "3baeb668",
   "metadata": {},
   "outputs": [
    {
     "data": {
      "text/plain": [
       "{'2': 1,\n",
       " '3': 2,\n",
       " '4': 3,\n",
       " '5': 4,\n",
       " '6': 5,\n",
       " '7': 6,\n",
       " '8': 7,\n",
       " '9': 8,\n",
       " 'T': 9,\n",
       " 'J': 10,\n",
       " 'Q': 11,\n",
       " 'K': 12,\n",
       " 'A': 13}"
      ]
     },
     "execution_count": 31,
     "metadata": {},
     "output_type": "execute_result"
    }
   ],
   "source": [
    "order"
   ]
  },
  {
   "cell_type": "code",
   "execution_count": 36,
   "id": "2f4d8e3a",
   "metadata": {},
   "outputs": [],
   "source": [
    "outcome = []\n",
    "for hand in text:\n",
    "    cards = hand[0]\n",
    "    cards_order = [order[i] for i in cards]\n",
    "    score = hand[1]\n",
    "    cards_list = [i for i in cards]\n",
    "    cards_count = dict((i, cards_list.count(i)) for i in set(cards_list))\n",
    "    val = list(cards_count.values())\n",
    "    if val.count(5) ==1:\n",
    "        group = 7\n",
    "    elif val.count(4)==1:\n",
    "        group = 6\n",
    "    elif val.count(3)==1 and val.count(2) ==1:\n",
    "        group = 5\n",
    "    elif val.count(3)==1:\n",
    "        group=4\n",
    "    elif val.count(2)==2:\n",
    "        group = 3\n",
    "    elif val.count(2)==1:\n",
    "        group=2\n",
    "    else:\n",
    "        group =1\n",
    "    outcome +=[[[group] + cards_order, cards, score]]\n",
    "#     print(outcome)\n",
    "#     break"
   ]
  },
  {
   "cell_type": "code",
   "execution_count": 43,
   "id": "43016452",
   "metadata": {},
   "outputs": [
    {
     "data": {
      "text/plain": [
       "250474325"
      ]
     },
     "execution_count": 43,
     "metadata": {},
     "output_type": "execute_result"
    }
   ],
   "source": [
    "sum([(i+1)*j[-1] for i,j in enumerate(sorted(outcome))])"
   ]
  },
  {
   "cell_type": "markdown",
   "id": "c60f2c51",
   "metadata": {},
   "source": [
    "# Part 2"
   ]
  },
  {
   "cell_type": "code",
   "execution_count": 51,
   "id": "c17eb56d",
   "metadata": {},
   "outputs": [
    {
     "data": {
      "text/plain": [
       "248909434"
      ]
     },
     "execution_count": 51,
     "metadata": {},
     "output_type": "execute_result"
    }
   ],
   "source": [
    "new_order = order\n",
    "new_order['J']=0\n",
    "\n",
    "outcome = []\n",
    "for hand in text:\n",
    "    cards = hand[0]\n",
    "    cards_order = [order[i] for i in cards]\n",
    "    score = hand[1]\n",
    "    cards_list = [i for i in cards if i != \"J\"]\n",
    "    cards_count = dict((i, cards_list.count(i)) for i in set(cards_list))\n",
    "    j_count = cards.count('J')\n",
    "#     print(j_count)\n",
    "    val = list(cards_count.values())\n",
    "    if j_count==5:\n",
    "        group =7\n",
    "    elif val.count(5) ==1 or max(val) + j_count ==5:\n",
    "        group = 7\n",
    "    elif val.count(4)==1 or max(val) + j_count ==4:\n",
    "        group = 6\n",
    "    elif val.count(3)==1 and val.count(2) ==1 or (max(val) + j_count ==3 and val.count(2)==2):\n",
    "        group = 5\n",
    "    elif val.count(3)==1 or max(val) + j_count ==3:\n",
    "        group=4\n",
    "    elif val.count(2)==2:\n",
    "        group = 3\n",
    "    elif val.count(2)==1 or max(val) + j_count ==2:\n",
    "        group=2\n",
    "    else:\n",
    "        group =1\n",
    "    outcome +=[[[group] + cards_order, cards, score]]\n",
    "sum([(i+1)*j[-1] for i,j in enumerate(sorted(outcome))])"
   ]
  },
  {
   "cell_type": "code",
   "execution_count": null,
   "id": "12f22794",
   "metadata": {},
   "outputs": [],
   "source": []
  }
 ],
 "metadata": {
  "kernelspec": {
   "display_name": "Python 3",
   "language": "python",
   "name": "python3"
  },
  "language_info": {
   "codemirror_mode": {
    "name": "ipython",
    "version": 3
   },
   "file_extension": ".py",
   "mimetype": "text/x-python",
   "name": "python",
   "nbconvert_exporter": "python",
   "pygments_lexer": "ipython3",
   "version": "3.8.10"
  }
 },
 "nbformat": 4,
 "nbformat_minor": 5
}
