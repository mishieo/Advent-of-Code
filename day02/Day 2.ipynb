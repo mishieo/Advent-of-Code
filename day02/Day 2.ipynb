{
 "cells": [
  {
   "cell_type": "code",
   "execution_count": 1,
   "id": "fc0429e8",
   "metadata": {},
   "outputs": [],
   "source": [
    "with open('day2.txt') as f:\n",
    "    text = f.read()\n",
    "text = [i.split(':') for i in text.split('\\n')]"
   ]
  },
  {
   "cell_type": "markdown",
   "id": "e4fe8c88",
   "metadata": {},
   "source": [
    "# Part 1"
   ]
  },
  {
   "cell_type": "code",
   "execution_count": 2,
   "id": "829e83a0",
   "metadata": {},
   "outputs": [],
   "source": [
    "given = {'red':12, 'green':13, 'blue':14}"
   ]
  },
  {
   "cell_type": "code",
   "execution_count": 3,
   "id": "dc2467f2",
   "metadata": {},
   "outputs": [
    {
     "data": {
      "text/plain": [
       "2795"
      ]
     },
     "execution_count": 3,
     "metadata": {},
     "output_type": "execute_result"
    }
   ],
   "source": [
    "import re\n",
    "\n",
    "count = 0\n",
    "for num, game in text:\n",
    "    valid = True\n",
    "    # Check that the max cube per game for each color is never greater\n",
    "    # than the cubes given\n",
    "    for col in given.keys():\n",
    "        nums = list(map(int, re.findall(rf'(\\d+) {col}', game)))\n",
    "        if max(nums) > given[col]:\n",
    "            valid = False\n",
    "            break\n",
    "    if valid:\n",
    "        count+= int(num[5:])\n",
    "count"
   ]
  },
  {
   "cell_type": "markdown",
   "id": "917847f0",
   "metadata": {},
   "source": [
    "# Part 2"
   ]
  },
  {
   "cell_type": "code",
   "execution_count": 4,
   "id": "d92d9565",
   "metadata": {},
   "outputs": [
    {
     "data": {
      "text/plain": [
       "75561"
      ]
     },
     "execution_count": 4,
     "metadata": {},
     "output_type": "execute_result"
    }
   ],
   "source": [
    "import re\n",
    "count = 0\n",
    "for num, game in text:\n",
    "    mult = 1\n",
    "    # Check that the max cube per game for each color is never greater\n",
    "    # than the cubes given\n",
    "    for col in given.keys():\n",
    "        nums = list(map(int, re.findall(rf'(\\d+) {col}', game)))\n",
    "        mult *= max(nums)\n",
    "    count += mult\n",
    "count"
   ]
  }
 ],
 "metadata": {
  "kernelspec": {
   "display_name": "Python 3",
   "language": "python",
   "name": "python3"
  },
  "language_info": {
   "codemirror_mode": {
    "name": "ipython",
    "version": 3
   },
   "file_extension": ".py",
   "mimetype": "text/x-python",
   "name": "python",
   "nbconvert_exporter": "python",
   "pygments_lexer": "ipython3",
   "version": "3.8.10"
  }
 },
 "nbformat": 4,
 "nbformat_minor": 5
}
