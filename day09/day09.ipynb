{
 "cells": [
  {
   "cell_type": "code",
   "execution_count": 1,
   "id": "59f6e3cd",
   "metadata": {},
   "outputs": [],
   "source": [
    "example = '''0 3 6 9 12 15\n",
    "1 3 6 10 15 21\n",
    "10 13 16 21 30 45'''"
   ]
  },
  {
   "cell_type": "code",
   "execution_count": 69,
   "id": "75916574",
   "metadata": {
    "scrolled": true
   },
   "outputs": [],
   "source": [
    "with open('day09.txt') as f:\n",
    "    text = f.read()"
   ]
  },
  {
   "cell_type": "markdown",
   "id": "ca0ef5ec",
   "metadata": {},
   "source": [
    "# Part 1"
   ]
  },
  {
   "cell_type": "code",
   "execution_count": 26,
   "id": "7cffb925",
   "metadata": {},
   "outputs": [
    {
     "data": {
      "text/plain": [
       "1868368343"
      ]
     },
     "execution_count": 26,
     "metadata": {},
     "output_type": "execute_result"
    }
   ],
   "source": [
    "numbers =[list(map(int, i.split(\" \"))) for i in text.split('\\n')]\n",
    "total = 0\n",
    "for line in numbers:\n",
    "    curr = line\n",
    "    last =[]\n",
    "    cont=True\n",
    "    while cont:\n",
    "        diff=[curr[i+1] - curr[i] for i in range(len(curr)-1)]\n",
    "        if all(v ==0 for v in diff):\n",
    "            cont = False\n",
    "        else:\n",
    "            curr= diff\n",
    "            last+=[diff[-1]]\n",
    "    total+=line[-1]+sum(last)\n",
    "total"
   ]
  },
  {
   "cell_type": "markdown",
   "id": "b026eb52",
   "metadata": {},
   "source": [
    "# Part 2"
   ]
  },
  {
   "cell_type": "code",
   "execution_count": 68,
   "id": "63145383",
   "metadata": {},
   "outputs": [
    {
     "data": {
      "text/plain": [
       "1022"
      ]
     },
     "execution_count": 68,
     "metadata": {},
     "output_type": "execute_result"
    }
   ],
   "source": [
    "numbers =[list(map(int, i.split(\" \"))) for i in text.split('\\n')]\n",
    "total = 0\n",
    "for line in numbers:\n",
    "    curr = line\n",
    "    first =[]\n",
    "    cont=True\n",
    "    while cont:\n",
    "        diff=[curr[i+1] - curr[i] for i in range(len(curr)-1)]\n",
    "        if all(v ==0 for v in diff):\n",
    "            cont = False\n",
    "        else:\n",
    "            first+=[diff[0]]\n",
    "            curr= diff\n",
    "    first = [-i if idx%2==0 else i for idx,i in enumerate(first) ]\n",
    "    total+= line[0]+sum(first)\n",
    "total"
   ]
  }
 ],
 "metadata": {
  "kernelspec": {
   "display_name": "Python 3",
   "language": "python",
   "name": "python3"
  },
  "language_info": {
   "codemirror_mode": {
    "name": "ipython",
    "version": 3
   },
   "file_extension": ".py",
   "mimetype": "text/x-python",
   "name": "python",
   "nbconvert_exporter": "python",
   "pygments_lexer": "ipython3",
   "version": "3.8.10"
  }
 },
 "nbformat": 4,
 "nbformat_minor": 5
}
