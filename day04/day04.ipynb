{
 "cells": [
  {
   "cell_type": "markdown",
   "id": "5bd253a0",
   "metadata": {},
   "source": [
    "# Part 1"
   ]
  },
  {
   "cell_type": "code",
   "execution_count": 33,
   "id": "8669a676",
   "metadata": {},
   "outputs": [],
   "source": [
    "example = '''Card 1: 41 48 83 86 17 | 83 86  6 31 17  9 48 53\n",
    "Card 2: 13 32 20 16 61 | 61 30 68 82 17 32 24 19\n",
    "Card 3:  1 21 53 59 44 | 69 82 63 72 16 21 14  1\n",
    "Card 4: 41 92 73 84 69 | 59 84 76 51 58  5 54 83\n",
    "Card 5: 87 83 26 28 32 | 88 30 70 12 93 22 82 36\n",
    "Card 6: 31 18 13 56 72 | 74 77 10 23 35 67 36 11'''\n",
    "example = example.split(\"\\n\")"
   ]
  },
  {
   "cell_type": "code",
   "execution_count": 155,
   "id": "8418658e",
   "metadata": {},
   "outputs": [
    {
     "data": {
      "text/plain": [
       "26346"
      ]
     },
     "execution_count": 155,
     "metadata": {},
     "output_type": "execute_result"
    }
   ],
   "source": [
    "with open('day04.txt') as f:\n",
    "    text = f.readlines()\n",
    "    \n",
    "# Find all the numbers in the line after \"Game xx:\"\n",
    "nums = [list(map(int, re.findall('\\d+', i[i.find(':'):]))) for i in text]\n",
    "\n",
    "# Find numbers that appear twice (assumption: No duplicate values are in either set of numbers)\n",
    "winnings =[list(set([a for a in i if i.count(a)>1])) for i in nums]\n",
    "\n",
    "# Calculate the number of points\n",
    "points = [2**(len(i)-1) for i in winnings if len(i)>0]\n",
    "sum(points)"
   ]
  },
  {
   "cell_type": "markdown",
   "id": "ea352ca8",
   "metadata": {},
   "source": [
    "# part 2"
   ]
  },
  {
   "cell_type": "code",
   "execution_count": 166,
   "id": "3a832158",
   "metadata": {},
   "outputs": [
    {
     "data": {
      "text/plain": [
       "8467762"
      ]
     },
     "execution_count": 166,
     "metadata": {},
     "output_type": "execute_result"
    }
   ],
   "source": [
    "with open('day04.txt') as f:\n",
    "    text = f.readlines()\n",
    "# Find all the numbers in the line after \"Game xx:\"\n",
    "nums = [list(map(int, re.findall('\\d+', i[i.find(':'):]))) for i in text]\n",
    "\n",
    "# Find numbers that appear twice (assumption: No duplicate values are in either set of numbers)\n",
    "winnings =[len(list(set([a for a in i if i.count(a)>1]))) for i in nums]\n",
    "\n",
    "cards = [i+1 for i in range(len(winnings))]\n",
    "for idx, num in enumerate(winnings):\n",
    "    mult = cards.count(idx+1)\n",
    "    cards += [i+1 for i in range(idx+1,idx+num+1)]*int(mult)\n",
    "len(cards)"
   ]
  },
  {
   "cell_type": "code",
   "execution_count": null,
   "id": "6fe1fc14",
   "metadata": {},
   "outputs": [],
   "source": []
  }
 ],
 "metadata": {
  "kernelspec": {
   "display_name": "Python 3",
   "language": "python",
   "name": "python3"
  },
  "language_info": {
   "codemirror_mode": {
    "name": "ipython",
    "version": 3
   },
   "file_extension": ".py",
   "mimetype": "text/x-python",
   "name": "python",
   "nbconvert_exporter": "python",
   "pygments_lexer": "ipython3",
   "version": "3.8.10"
  }
 },
 "nbformat": 4,
 "nbformat_minor": 5
}
