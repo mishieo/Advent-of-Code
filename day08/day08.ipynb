{
 "cells": [
  {
   "cell_type": "markdown",
   "id": "98c388ad",
   "metadata": {},
   "source": [
    "# Part 1"
   ]
  },
  {
   "cell_type": "code",
   "execution_count": 40,
   "id": "0abc9a31",
   "metadata": {},
   "outputs": [
    {
     "data": {
      "text/plain": [
       "18023"
      ]
     },
     "execution_count": 40,
     "metadata": {},
     "output_type": "execute_result"
    }
   ],
   "source": [
    "with open('day08.txt') as f:\n",
    "    text = f.read()\n",
    "extract = text.split('\\n')\n",
    "\n",
    "pattern = extract[0].replace('R', '1').replace('L', '0')\n",
    "mapping = [i.split(\" \") for i in extract[2:]]\n",
    "mapping = dict([[i[0], (i[-2][1:4], i[-1][:3])] for i in mapping])\n",
    "\n",
    "node = 'AAA'\n",
    "count = 1\n",
    "while node != 'ZZZ':\n",
    "    for direction in pattern:\n",
    "        node = mapping[node][int(direction)]\n",
    "        if node=='ZZZ':\n",
    "            break\n",
    "        else:\n",
    "            count+=1\n",
    "count"
   ]
  },
  {
   "cell_type": "markdown",
   "id": "5fe6cdea",
   "metadata": {},
   "source": [
    "# Part 2"
   ]
  },
  {
   "cell_type": "code",
   "execution_count": 75,
   "id": "3dec6345",
   "metadata": {},
   "outputs": [
    {
     "name": "stdout",
     "output_type": "stream",
     "text": [
      "14449445933179\n"
     ]
    }
   ],
   "source": [
    "start_list = [i for i in mapping.keys() if i[-1]=='A']\n",
    "\n",
    "steps_list = []\n",
    "for start in start_list:\n",
    "    node = start\n",
    "    count = 1\n",
    "    while node[-1] != 'Z':\n",
    "        for direction in pattern:\n",
    "            node = mapping[node][int(direction)]\n",
    "            if node[-1]=='Z':\n",
    "                break\n",
    "            else:\n",
    "                count+=1\n",
    "    steps_list += [[start, count]]\n",
    "\n",
    "import math\n",
    "\n",
    "steps = sorted([i[-1] for i in steps_list])\n",
    "lcm = 1\n",
    "for i in steps:\n",
    "    lcm = lcm*i//math.gcd(lcm, i)\n",
    "print(lcm)"
   ]
  }
 ],
 "metadata": {
  "kernelspec": {
   "display_name": "Python 3",
   "language": "python",
   "name": "python3"
  },
  "language_info": {
   "codemirror_mode": {
    "name": "ipython",
    "version": 3
   },
   "file_extension": ".py",
   "mimetype": "text/x-python",
   "name": "python",
   "nbconvert_exporter": "python",
   "pygments_lexer": "ipython3",
   "version": "3.8.10"
  }
 },
 "nbformat": 4,
 "nbformat_minor": 5
}
