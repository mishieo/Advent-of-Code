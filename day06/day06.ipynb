{
 "cells": [
  {
   "cell_type": "code",
   "execution_count": 1,
   "id": "ce42d7a3",
   "metadata": {},
   "outputs": [],
   "source": [
    "# puzzle input\n",
    "text = '''Time:        62     64     91     90\n",
    "Distance:   553   1010   1473   1074'''"
   ]
  },
  {
   "cell_type": "code",
   "execution_count": 2,
   "id": "d831f07d",
   "metadata": {},
   "outputs": [],
   "source": [
    "# example given\n",
    "example = '''Time:      7  15   30\n",
    "Distance:  9  40  200'''\n",
    "## P1 answer: 288\n",
    "## P2 answer: 71503"
   ]
  },
  {
   "cell_type": "markdown",
   "id": "5521042a",
   "metadata": {},
   "source": [
    "# Part 1"
   ]
  },
  {
   "cell_type": "code",
   "execution_count": 129,
   "id": "3882317a",
   "metadata": {
    "scrolled": true
   },
   "outputs": [],
   "source": [
    "races= [[j for j in i.split(\" \")[1:] if j] for i in text.split('\\n')]\n",
    "# Convert string to int for Time and Distance\n",
    "[time, dis] = [list(map(int, races[i])) for i in range(2)]"
   ]
  },
  {
   "cell_type": "code",
   "execution_count": 130,
   "id": "5f24a4e1",
   "metadata": {},
   "outputs": [
    {
     "data": {
      "text/plain": [
       "840336"
      ]
     },
     "execution_count": 130,
     "metadata": {},
     "output_type": "execute_result"
    }
   ],
   "source": [
    "answer = 1\n",
    "for game in range(len(time)):\n",
    "    count = [i for i in range(time[game]) if i*(time[game]-i)> dis[game]]\n",
    "    answer *= len(count)\n",
    "answer"
   ]
  },
  {
   "cell_type": "markdown",
   "id": "de240ffd",
   "metadata": {},
   "source": [
    "# Part 2"
   ]
  },
  {
   "cell_type": "code",
   "execution_count": 123,
   "id": "d956d9be",
   "metadata": {},
   "outputs": [
    {
     "data": {
      "text/plain": [
       "41382569"
      ]
     },
     "execution_count": 123,
     "metadata": {},
     "output_type": "execute_result"
    }
   ],
   "source": [
    "import re \n",
    "game = list(map(int,re.findall('\\d+',text.replace(\" \",\"\"))))\n",
    "count = [i for i in range(game[0]) if i*(game[0]-i)> game[1]]\n",
    "len(count)"
   ]
  }
 ],
 "metadata": {
  "kernelspec": {
   "display_name": "Python 3",
   "language": "python",
   "name": "python3"
  },
  "language_info": {
   "codemirror_mode": {
    "name": "ipython",
    "version": 3
   },
   "file_extension": ".py",
   "mimetype": "text/x-python",
   "name": "python",
   "nbconvert_exporter": "python",
   "pygments_lexer": "ipython3",
   "version": "3.8.10"
  }
 },
 "nbformat": 4,
 "nbformat_minor": 5
}
