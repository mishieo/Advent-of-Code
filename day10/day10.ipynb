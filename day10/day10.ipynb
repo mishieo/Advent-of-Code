{
 "cells": [
  {
   "cell_type": "markdown",
   "id": "7d0f19c4",
   "metadata": {},
   "source": [
    "# Part 1\n",
    "Each point is listed by an x,y coordinates. \\\n",
    "Each pipe is listed left to right or top to bottom coordinates"
   ]
  },
  {
   "cell_type": "code",
   "execution_count": 142,
   "id": "79e6ee79",
   "metadata": {},
   "outputs": [],
   "source": [
    "def get_pipes(positions, map_dict, skip_ground=True):\n",
    "    pipes = []\n",
    "    \n",
    "    for idx,line in enumerate(positions):\n",
    "        y = 2*idx + 1\n",
    "        for left, p in enumerate(line):\n",
    "            x= 2*left+1\n",
    "            # Middle of tile\n",
    "            point = [x,y]\n",
    "            if p=='S':\n",
    "                start = point\n",
    "            elif skip_ground and p=='.':\n",
    "                continue\n",
    "            else:\n",
    "                ## Find the pipe coordinates\n",
    "                pipe = [[j[0]+point[0], j[1]+point[1]] for i, j in enumerate(map_dict[p])]\n",
    "                pipes += [pipe]\n",
    "    #Look at the start point to figure the type of pipe it is\n",
    "    start =  [[j[0]+start[0], j[1]+start[1]] for i, j in enumerate(map_dict['|'])]\n",
    "    \n",
    "    return pipes, start\n",
    "\n",
    "def get_loop(pipes, start):\n",
    "    ## Unpacks each coordinate for all pipes\n",
    "    all_pipes =[x for l in pipes for x in l]  \n",
    "    all_pipes+= start\n",
    "    ## Find connection points\n",
    "    connected = [i for i in all_pipes if all_pipes.count(i)>1] \n",
    "    ## Find pipes that are connected on both ends\n",
    "    conn_pipes = [i for i in pipes if i[0] in connected and i[1] in connected]\n",
    "    \n",
    "    # Find pipes that are in the loop\n",
    "    end = start[0]\n",
    "    loop = [end]\n",
    "    curr_pipe = conn_pipes\n",
    "    ## While we have not reached the other point of the pipe\n",
    "    while end!= start[1]:\n",
    "        ## Find the adjoining pipe\n",
    "        con= [i for i in curr_pipe if (i[0]==end) or i[1]==end][0]\n",
    "        ## Remove adjoining pipe from the search list\n",
    "        curr_pipe.remove(con) \n",
    "        ## Find the next connection point\n",
    "        end=[i for i in con if i!= end][0]\n",
    "        loop+=[end]\n",
    "    return loop"
   ]
  },
  {
   "cell_type": "code",
   "execution_count": 140,
   "id": "9e08a831",
   "metadata": {},
   "outputs": [],
   "source": [
    "# Map of the cahnges of coordinate from the midpoint of each 2*2 block that a pipe lays on\n",
    "map_dict = {'|':[[ 0,-1],[ 0, 1]],\n",
    "            '-':[[-1, 0],[ 1, 0]], \n",
    "            'L':[[ 0,-1],[ 1, 0]],\n",
    "            'J':[[-1, 0],[ 0,-1]], \n",
    "            '7':[[-1, 0],[ 0, 1]], \n",
    "            'F':[[ 0, 1],[ 1, 0]]}"
   ]
  },
  {
   "cell_type": "code",
   "execution_count": 141,
   "id": "46850bda",
   "metadata": {},
   "outputs": [
    {
     "data": {
      "text/plain": [
       "6701"
      ]
     },
     "execution_count": 141,
     "metadata": {},
     "output_type": "execute_result"
    }
   ],
   "source": [
    "with open('day10.txt') as f:\n",
    "    text = f.read()\n",
    "positions = [[a for a in i] for i in text.split('\\n')]\n",
    "\n",
    "pipes, start = get_pipes(positions, map_dict)\n",
    "loop = get_loop(pipes, start)\n",
    "int(len(loop)/2)"
   ]
  },
  {
   "cell_type": "markdown",
   "id": "74b20639",
   "metadata": {},
   "source": [
    "# Part 2"
   ]
  },
  {
   "cell_type": "code",
   "execution_count": 148,
   "id": "b01bd4e4",
   "metadata": {},
   "outputs": [
    {
     "name": "stdout",
     "output_type": "stream",
     "text": [
      "303\n"
     ]
    }
   ],
   "source": [
    "from shapely.geometry import Polygon, Point\n",
    "\n",
    "# Tile mappings with '.'\n",
    "tile_map = {**map_dict, **{'.':[[0,0], [0,0]]}}\n",
    "\n",
    "### Same as Part 1 except the mapping is different\n",
    "with open('day10.txt') as f:\n",
    "    text = f.read()\n",
    "    \n",
    "positions = [[a for a in i] for i in text.split('\\n')]\n",
    "pipes, start = get_pipes(positions, tile_map, skip_ground=False)\n",
    "loop = get_loop(pipes, start)\n",
    "\n",
    "# Get tiles that are not in the loop\n",
    "tiles = [i for i in pipes if i[0] not in loop and i[1] not in loop]\n",
    "# Converting pipes to points (midpoint of each tile)\n",
    "points = [list(map(lambda x: int(x/2), [i[0][0]+i[1][0], i[0][1]+i[1][1]])) for i in tiles]\n",
    "count=0\n",
    "## Get enclosed loop and initiate in shapely\n",
    "poly = loop + [loop[0]]\n",
    "polygon = Polygon(poly)\n",
    "\n",
    "## Find if each point/tile is enclosed in the polygon\n",
    "for point in points:\n",
    "    if polygon.contains(Point(point)):\n",
    "        count+=1\n",
    "print(count)"
   ]
  }
 ],
 "metadata": {
  "kernelspec": {
   "display_name": "Python 3",
   "language": "python",
   "name": "python3"
  },
  "language_info": {
   "codemirror_mode": {
    "name": "ipython",
    "version": 3
   },
   "file_extension": ".py",
   "mimetype": "text/x-python",
   "name": "python",
   "nbconvert_exporter": "python",
   "pygments_lexer": "ipython3",
   "version": "3.8.10"
  }
 },
 "nbformat": 4,
 "nbformat_minor": 5
}
